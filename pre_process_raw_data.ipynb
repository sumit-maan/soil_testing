{
 "cells": [
  {
   "cell_type": "code",
   "execution_count": null,
   "id": "1c403084",
   "metadata": {},
   "outputs": [],
   "source": [
    "import os\n",
    "import glob\n",
    "import pandas as pd"
   ]
  },
  {
   "cell_type": "code",
   "execution_count": null,
   "id": "a7f7fa15",
   "metadata": {},
   "outputs": [],
   "source": [
    "raw_data_states = glob.glob('data/raw_data/*')\n",
    "raw_data_states"
   ]
  },
  {
   "cell_type": "code",
   "execution_count": null,
   "id": "d7d89a27",
   "metadata": {},
   "outputs": [],
   "source": [
    "# file = 'data/Raw_data/Maharashtra/ahmednagar_10.xlsx'\n",
    "# df = pd.read_excel(file, engine='openpyxl', skiprows=3)"
   ]
  },
  {
   "cell_type": "code",
   "execution_count": null,
   "id": "51888702",
   "metadata": {},
   "outputs": [],
   "source": [
    "for fol in raw_data_states:\n",
    "    state = '_'.join(fol.split('/')[-1].lower().split(' '))\n",
    "    print(state)\n",
    "    files = glob.glob(fol+'/*xlsx')\n",
    "    df = pd.DataFrame()\n",
    "    for fname in files:\n",
    "        df1 = pd.read_excel(fname, engine='openpyxl', skiprows=3)\n",
    "        region =  fname.split('/')[-1] .split('_')[0].lower()\n",
    "        df1['region'] = region\n",
    "        df = pd.concat([df,df1])  \n",
    "    df['state'] = [state]*len(df)\n",
    "    try:\n",
    "        os.makedirs(f'data/processed_raw_data/{state}')\n",
    "    except:\n",
    "        pass\n",
    "    df.to_csv(f'data/processed_raw_data/{state}/data.csv', index=False)"
   ]
  },
  {
   "cell_type": "code",
   "execution_count": null,
   "id": "64a748d5",
   "metadata": {},
   "outputs": [],
   "source": [
    "processed_data_list = glob.glob('data/processed_raw_data/*/*')\n",
    "df = pd.DataFrame()\n",
    "for fname in processed_data_list:\n",
    "    df1 = pd.read_csv(fname)\n",
    "    df = pd.concat([df,df1])"
   ]
  },
  {
   "cell_type": "code",
   "execution_count": null,
   "id": "df379c3b",
   "metadata": {},
   "outputs": [],
   "source": [
    "col_list = df.columns.tolist()\n",
    "unnamed_cols = [col for col in col_list if col.startswith('U')]\n",
    "df.drop(unnamed_cols, axis=1, inplace=True)\n",
    "df.shape"
   ]
  },
  {
   "cell_type": "code",
   "execution_count": null,
   "id": "b23a6483",
   "metadata": {},
   "outputs": [],
   "source": [
    "df.to_csv('data/processed_raw_data/data.csv', index=False)"
   ]
  },
  {
   "cell_type": "code",
   "execution_count": null,
   "id": "3fcf9e27",
   "metadata": {},
   "outputs": [],
   "source": []
  }
 ],
 "metadata": {
  "kernelspec": {
   "display_name": "conda_python3",
   "language": "python",
   "name": "conda_python3"
  },
  "language_info": {
   "codemirror_mode": {
    "name": "ipython",
    "version": 3
   },
   "file_extension": ".py",
   "mimetype": "text/x-python",
   "name": "python",
   "nbconvert_exporter": "python",
   "pygments_lexer": "ipython3",
   "version": "3.6.13"
  }
 },
 "nbformat": 4,
 "nbformat_minor": 5
}
