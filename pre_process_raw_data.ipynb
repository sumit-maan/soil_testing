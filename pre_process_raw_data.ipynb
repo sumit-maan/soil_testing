{
 "cells": [
  {
   "cell_type": "code",
   "execution_count": null,
   "id": "c1a7326c",
   "metadata": {},
   "outputs": [],
   "source": [
    "import os\n",
    "import glob\n",
    "import pandas as pd"
   ]
  },
  {
   "cell_type": "code",
   "execution_count": null,
   "id": "38b7cebf",
   "metadata": {},
   "outputs": [],
   "source": [
    "raw_data_states = glob.glob('data/raw_data/*')\n",
    "raw_data_states"
   ]
  },
  {
   "cell_type": "code",
   "execution_count": null,
   "id": "e23606d3",
   "metadata": {},
   "outputs": [],
   "source": [
    "# file = 'data/Raw_data/Maharashtra/ahmednagar_10.xlsx'\n",
    "# df = pd.read_excel(file, engine='openpyxl', skiprows=3)"
   ]
  },
  {
   "cell_type": "code",
   "execution_count": null,
   "id": "dc4482de",
   "metadata": {},
   "outputs": [],
   "source": [
    "for fol in raw_data_states:\n",
    "    state = '_'.join(fol.split('/')[-1].lower().split(' '))\n",
    "    print(state)\n",
    "    files = glob.glob(fol+'/*xlsx')\n",
    "    df = pd.DataFrame()\n",
    "    for fname in files:\n",
    "        df1 = pd.read_excel(fname, engine='openpyxl', skiprows=3)\n",
    "        region =  fname.split('/')[-1] .split('_')[0].lower()\n",
    "        df1['region'] = region\n",
    "        df = pd.concat([df,df1])  \n",
    "    df['state'] = [state]*len(df)\n",
    "    try:\n",
    "        os.makedirs(f'data/processed_raw_data/{state}')\n",
    "    except:\n",
    "        pass\n",
    "    df.to_csv(f'data/processed_raw_data/{state}/data.csv', index=False)"
   ]
  },
  {
   "cell_type": "code",
   "execution_count": null,
   "id": "add2cbb1",
   "metadata": {},
   "outputs": [],
   "source": [
    "processed_data_list = glob.glob('data/processed_raw_data/*/*')\n",
    "df = pd.DataFrame()\n",
    "for fname in processed_data_list:\n",
    "    df1 = pd.read_csv(fname)\n",
    "    df = pd.concat([df,df1])"
   ]
  },
  {
   "cell_type": "code",
   "execution_count": null,
   "id": "0c89a63d",
   "metadata": {},
   "outputs": [],
   "source": [
    "col_list = df.columns.tolist()\n",
    "unnamed_cols = [col for col in col_list if col.startswith('U')]\n",
    "df.drop(unnamed_cols, axis=1, inplace=True)\n",
    "df.shape"
   ]
  },
  {
   "cell_type": "code",
   "execution_count": null,
   "id": "971d93a6",
   "metadata": {},
   "outputs": [],
   "source": [
    "df.to_csv('data/processed_raw_data/data.csv', index=False)"
   ]
  },
  {
   "cell_type": "code",
   "execution_count": 1,
   "id": "4dc192bf",
   "metadata": {},
   "outputs": [
    {
     "name": "stdout",
     "output_type": "stream",
     "text": [
      "Cheers\n"
     ]
    }
   ],
   "source": [
    "print('Cheers')"
   ]
  },
  {
   "cell_type": "code",
   "execution_count": null,
   "id": "e419cf7f",
   "metadata": {},
   "outputs": [],
   "source": []
  }
 ],
 "metadata": {
  "kernelspec": {
   "display_name": "conda_python3",
   "language": "python",
   "name": "conda_python3"
  },
  "language_info": {
   "codemirror_mode": {
    "name": "ipython",
    "version": 3
   },
   "file_extension": ".py",
   "mimetype": "text/x-python",
   "name": "python",
   "nbconvert_exporter": "python",
   "pygments_lexer": "ipython3",
   "version": "3.6.13"
  }
 },
 "nbformat": 4,
 "nbformat_minor": 5
}
